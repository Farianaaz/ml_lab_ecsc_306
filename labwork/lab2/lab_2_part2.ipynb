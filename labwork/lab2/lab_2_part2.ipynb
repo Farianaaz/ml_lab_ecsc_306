{
 "cells": [
  {
   "cell_type": "code",
   "execution_count": 2,
   "metadata": {},
   "outputs": [
    {
     "name": "stdout",
     "output_type": "stream",
     "text": [
      "b'y=mx+c'\n",
      "b'm:' 1.0\n",
      "b'c:' 2.0\n",
      "b'Actual values of Y' [[ 14.25        24.32999992  35.11999893  46.66999817]]\n",
      "b'predicted values of Y' [[ 14.25        24.32999992  35.11999893  46.66999817]]\n",
      "0.0\n"
     ]
    }
   ],
   "source": [
    "import tensorflow as tf\n",
    "\n",
    "\n",
    "x=tf.constant([12.25,22.33,33.12,44.67],shape=[1,4],name='f')\n",
    "y=tf.constant([14.25,24.33,35.12,46.67],shape=[1,4],name='s')\n",
    "\n",
    "e=tf.constant(\"y=mx+c\")\n",
    "ms=tf.constant(\"m:\")\n",
    "mc=tf.constant(\"c:\")\n",
    "ac=tf.constant(\"Actual values of Y\")\n",
    "pc=tf.constant(\"predicted values of Y\")\n",
    "\n",
    "# MEAN OF X, Y\n",
    "mx = tf.reduce_mean(x)\n",
    "my = tf.reduce_mean(y)\n",
    "\n",
    "    \n",
    "# X-MEAN , Y-MEAN\n",
    "vx=tf.Variable(x-mx, name='varx')\n",
    "vy=tf.Variable(y-my, name='vary')\n",
    "\n",
    "   \n",
    "#VS=X-MEAN SQUARE, SUM OF VS\n",
    "vs=tf.square(vx)\n",
    "sm=tf.reduce_sum(vs)\n",
    "\n",
    "    \n",
    "#COVARIENCE  OF X,Y\n",
    "cV=tf.multiply(vx,vy)\n",
    "cm=tf.reduce_sum(cV)\n",
    "\n",
    "#calculation of m and c\n",
    "m=tf.divide(cm,sm)\n",
    "c=my-(mx*m)\n",
    "\n",
    "#Predicted values of Y\n",
    "p=tf.multiply(x,m)\n",
    "pry=tf.add(p,c)     \n",
    "\n",
    "\n",
    "\n",
    "rms=tf.sqrt(tf.reduce_mean(tf.squared_difference(y,pry)))\n",
    "    \n",
    "init = tf.global_variables_initializer()\n",
    "sess = tf.Session()\n",
    "sess.run(init)\n",
    " \n",
    "print(sess.run(e))\n",
    "print(sess.run(ms),sess.run(m))\n",
    "print(sess.run(mc),sess.run(c))\n",
    "\n",
    "print(sess.run(ac),sess.run(y))\n",
    "print(sess.run(pc),sess.run(pry))\n",
    "print(sess.run(rms))\n",
    "\n",
    "\n",
    "\n",
    "\n",
    "    "
   ]
  },
  {
   "cell_type": "code",
   "execution_count": null,
   "metadata": {
    "collapsed": true
   },
   "outputs": [],
   "source": []
  },
  {
   "cell_type": "code",
   "execution_count": null,
   "metadata": {
    "collapsed": true
   },
   "outputs": [],
   "source": []
  }
 ],
 "metadata": {
  "kernelspec": {
   "display_name": "Python 3",
   "language": "python",
   "name": "python3"
  },
  "language_info": {
   "codemirror_mode": {
    "name": "ipython",
    "version": 3
   },
   "file_extension": ".py",
   "mimetype": "text/x-python",
   "name": "python",
   "nbconvert_exporter": "python",
   "pygments_lexer": "ipython3",
   "version": "3.6.1"
  }
 },
 "nbformat": 4,
 "nbformat_minor": 2
}
