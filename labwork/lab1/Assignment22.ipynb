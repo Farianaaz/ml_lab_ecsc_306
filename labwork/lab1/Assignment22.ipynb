{
 "cells": [
  {
   "cell_type": "code",
   "execution_count": 5,
   "metadata": {},
   "outputs": [
    {
     "name": "stdout",
     "output_type": "stream",
     "text": [
      "mean of x is 5.0\n",
      "mean of y is 6.5\n"
     ]
    }
   ],
   "source": [
    "import tensorflow as tf\n",
    "import tensorflow as tf\n",
    "x=tf.constant([2.0,4.0,6.0,8.0],shape=[1,4],name='x')\n",
    "y=tf.constant([5.0,6.0,7.0,8.0],shape=[1,4],name='y')\n",
    "with tf.name_scope(\"mean\"):\n",
    "    with tf.name_scope(\"mean_x_y\"):\n",
    "        x1=tf.reduce_mean(x)\n",
    "        y1=tf.reduce_mean(y)\n",
    "        sess=tf.Session()\n",
    "    print(\"mean of x is\",sess.run(x1))\n",
    "    print(\"mean of y is\",sess.run(y1))"
   ]
  },
  {
   "cell_type": "code",
   "execution_count": 6,
   "metadata": {},
   "outputs": [
    {
     "name": "stdout",
     "output_type": "stream",
     "text": [
      "[[-3. -1.  1.  3.]]\n",
      "[[-1.5 -0.5  0.5  1.5]]\n",
      "[[ 9.  1.  1.  9.]]\n",
      "the variance is 20.0\n"
     ]
    }
   ],
   "source": [
    "with tf.name_scope(\"variance\"):\n",
    "    with tf.name_scope(\"scope_sub1\"):\n",
    "        a=tf.subtract(x,x1)\n",
    "        sess1=tf.Session()\n",
    "    print(sess1.run(a))\n",
    "    with tf.name_scope(\"scope_sub2\"):\n",
    "        b=tf.subtract(y,y1)\n",
    "        sess2=tf.Session()\n",
    "    print(sess2.run(b))\n",
    "    with tf.name_scope(\"scope_square\"):\n",
    "        a1=tf.multiply(a,a)\n",
    "        sess3=tf.Session()\n",
    "    print(sess3.run(a1))\n",
    "    with tf.name_scope(\"scope_summation\"):\n",
    "        var=tf.reduce_sum(a1)\n",
    "        sess4=tf.Session()\n",
    "    print(\"the variance is\",sess4.run(var))"
   ]
  },
  {
   "cell_type": "code",
   "execution_count": 7,
   "metadata": {},
   "outputs": [
    {
     "name": "stdout",
     "output_type": "stream",
     "text": [
      "[[ 4.5  0.5  0.5  4.5]]\n",
      "the covariance is 10.0\n"
     ]
    }
   ],
   "source": [
    "with tf.name_scope(\"covariance\"):\n",
    "    with tf.name_scope(\"multiplication\"):\n",
    "        mul1=tf.multiply(a,b)\n",
    "        sess5=tf.Session()\n",
    "    print(sess5.run(mul1))\n",
    "    with tf.name_scope(\"scope_summation2\"):\n",
    "        covar=tf.reduce_sum(mul1)\n",
    "        sess6=tf.Session()\n",
    "    print(\"the covariance is\",sess6.run(covar))"
   ]
  },
  {
   "cell_type": "code",
   "execution_count": 8,
   "metadata": {},
   "outputs": [
    {
     "name": "stdout",
     "output_type": "stream",
     "text": [
      "the value of c is 0.5\n",
      "2.5\n",
      "the value of c is 4.0\n"
     ]
    }
   ],
   "source": [
    "with tf.name_scope(\"value_of_c\"):\n",
    "    c=tf.divide(covar,var)\n",
    "print(\"the value of c is\",sess.run(c))\n",
    "with tf.name_scope(\"value_of_m\"):\n",
    "    with tf.name_scope(\"multiplication2\"):\n",
    "        mul2=tf.multiply(c,x1)\n",
    "    print(sess.run(mul2))\n",
    "    with tf.name_scope(\"subtract\"):\n",
    "        sub=tf.subtract(y1,mul2)\n",
    "    print(\"the value of c is\",sess.run(sub))"
   ]
  },
  {
   "cell_type": "code",
   "execution_count": 9,
   "metadata": {
    "collapsed": true
   },
   "outputs": [],
   "source": [
    "\n",
    "with tf.Session() as sess:\n",
    "    writer = tf.summary.FileWriter(\"/tmp/tboard/Assignment22\", sess.graph)\n",
    "    writer.close()"
   ]
  },
  {
   "cell_type": "code",
   "execution_count": null,
   "metadata": {
    "collapsed": true
   },
   "outputs": [],
   "source": []
  }
 ],
 "metadata": {
  "kernelspec": {
   "display_name": "Python 3",
   "language": "python",
   "name": "python3"
  },
  "language_info": {
   "codemirror_mode": {
    "name": "ipython",
    "version": 3
   },
   "file_extension": ".py",
   "mimetype": "text/x-python",
   "name": "python",
   "nbconvert_exporter": "python",
   "pygments_lexer": "ipython3",
   "version": "3.6.1"
  }
 },
 "nbformat": 4,
 "nbformat_minor": 2
}
