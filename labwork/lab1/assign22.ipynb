{
 "cells": [
  {
   "cell_type": "code",
   "execution_count": 6,
   "metadata": {},
   "outputs": [
    {
     "name": "stdout",
     "output_type": "stream",
     "text": [
      "370\n"
     ]
    }
   ],
   "source": [
    "\n",
    "import tensorflow as tf\n",
    "v1=tf.constant(7)\n",
    "v2=tf.constant(3)\n",
    "with tf.name_scope(\"MyOperation\"):\n",
    "    with tf.name_scope(\"A\"):\n",
    "        a = tf.multiply(v1,v1)\n",
    "        b = tf.multiply(v2,v2)  \n",
    "with tf.name_scope(\"B\"):\n",
    "    c = tf.add(a, b, name=\"And_These_ones\")\n",
    "    d = tf.multiply(v1, v2, name=\"Multiply_these_numbers\")\n",
    "\n",
    "with tf.name_scope(\"C\"):\n",
    "    e=tf.subtract(c,d, name=\"subtrating\")\n",
    "    #e = tf.multiply(2, d, name=\"B_add\")\n",
    "    f=tf.add(v1,v2)\n",
    "with tf.name_scope(\"D\"):\n",
    "         g = tf.multiply(f,e)\n",
    "\n",
    "\n",
    "with tf.Session() as sess:\n",
    "    writer = tf.summary.FileWriter(\"/tmp/tboard/assign22\", sess.graph)\n",
    "    print(sess.run(g))\n",
    "    writer.close()"
   ]
  },
  {
   "cell_type": "code",
   "execution_count": null,
   "metadata": {
    "collapsed": true
   },
   "outputs": [],
   "source": []
  }
 ],
 "metadata": {
  "kernelspec": {
   "display_name": "Python 3",
   "language": "python",
   "name": "python3"
  },
  "language_info": {
   "codemirror_mode": {
    "name": "ipython",
    "version": 3
   },
   "file_extension": ".py",
   "mimetype": "text/x-python",
   "name": "python",
   "nbconvert_exporter": "python",
   "pygments_lexer": "ipython3",
   "version": "3.6.1"
  }
 },
 "nbformat": 4,
 "nbformat_minor": 2
}
